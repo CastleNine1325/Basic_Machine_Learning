{
  "nbformat": 4,
  "nbformat_minor": 0,
  "metadata": {
    "colab": {
      "provenance": [],
      "mount_file_id": "1VrfSuDC3nQbKhYcGGiIlWV-39YkTUD99",
      "authorship_tag": "ABX9TyPLE/ZVMRt7eFScnwLObb1Q",
      "include_colab_link": true
    },
    "kernelspec": {
      "name": "python3",
      "display_name": "Python 3"
    },
    "language_info": {
      "name": "python"
    }
  },
  "cells": [
    {
      "cell_type": "markdown",
      "metadata": {
        "id": "view-in-github",
        "colab_type": "text"
      },
      "source": [
        "<a href=\"https://colab.research.google.com/github/CastleNine1325/Basic_Machine_Learning/blob/main/%ED%98%88%EC%95%A1%EC%95%94_K_%ED%8F%89%EA%B7%A0_%EA%B5%B0%EC%A7%91%ED%99%94.ipynb\" target=\"_parent\"><img src=\"https://colab.research.google.com/assets/colab-badge.svg\" alt=\"Open In Colab\"/></a>"
      ]
    },
    {
      "cell_type": "code",
      "source": [
        "import numpy as np\n",
        "import matplotlib.pyplot as plt\n",
        "blood = np.load('/content/drive/MyDrive/blood_data.npy')"
      ],
      "metadata": {
        "id": "Vs-crwETQZ-3"
      },
      "execution_count": null,
      "outputs": []
    },
    {
      "cell_type": "markdown",
      "source": [
        "https://velog.io/@coma_403/ValueError-Cannot-load-file-containing-pickled-data-when-allowpickleFalse-%EC%97%90%EB%9F%AC-%ED%95%B4%EA%B2%B0\n",
        "\n",
        "numpy로 변환하면 np.load()를 할 수 있음.\n",
        "\n",
        "https://supermemi.tistory.com/entry/Python-PIL-PIL-%EC%9D%B4%EB%AF%B8%EC%A7%80-Numpy-%EB%B0%B0%EC%97%B4-%EB%B3%80%ED%99%98-%EB%B0%8F-%EC%A0%80%EC%9E%A5-Imagefromarray-nparray-npasarray#google_vignette\n",
        "\n",
        "다른 파일을 numpy파일로 변환하는 법"
      ],
      "metadata": {
        "id": "uFROL76xRPia"
      }
    },
    {
      "cell_type": "code",
      "source": [
        "print(blood.shape)"
      ],
      "metadata": {
        "id": "mRpeOEoKjvTx",
        "colab": {
          "base_uri": "https://localhost:8080/"
        },
        "outputId": "65cfda5d-e7a6-4a9c-92d2-2872cf960179"
      },
      "execution_count": null,
      "outputs": [
        {
          "output_type": "stream",
          "name": "stdout",
          "text": [
            "(200, 64, 64)\n"
          ]
        }
      ]
    },
    {
      "cell_type": "code",
      "source": [],
      "metadata": {
        "id": "4enmgzp3QaHZ"
      },
      "execution_count": null,
      "outputs": []
    },
    {
      "cell_type": "code",
      "execution_count": null,
      "metadata": {
        "colab": {
          "base_uri": "https://localhost:8080/"
        },
        "id": "TA3q0dHUjbPB",
        "outputId": "a0c841d1-a32d-4667-bdae-7e7fc3d5d240"
      },
      "outputs": [
        {
          "output_type": "stream",
          "name": "stdout",
          "text": [
            "이미지 배열 형태: [[239 238 239 ... 211 210 210]\n",
            " [239 238 239 ... 212 211 210]\n",
            " [239 238 238 ... 210 212 211]\n",
            " ...\n",
            " [205 203 201 ... 202 203 204]\n",
            " [208 207 206 ... 202 204 205]\n",
            " [209 208 209 ... 207 207 207]]\n"
          ]
        }
      ],
      "source": [
        "import cv2\n",
        "import numpy as np\n",
        "\n",
        "image_path = \"/content/drive/MyDrive/blood/Sample_1.tiff\" # 이미지 파일 경로\n",
        "image = cv2.imread(image_path, cv2.IMREAD_GRAYSCALE)      # 이미지를 흑백으로 읽어오기\n",
        "image_array = np.array(image)                             # 이미지를 숫자 배열로 변환\n",
        "print(\"이미지 배열 형태:\", image_array)                   # 변환된 숫자 배열 출력"
      ]
    },
    {
      "cell_type": "markdown",
      "source": [
        "1장만 미리 가져와 샘플로 변환 실행"
      ],
      "metadata": {
        "id": "9gBVqWIlltYI"
      }
    },
    {
      "cell_type": "code",
      "source": [
        "import cv2\n",
        "import numpy as np\n",
        "blood_image_path = '/content/drive/MyDrive/blood' # 이미지 파일 경로\n",
        "blood_image = cv2.imread(image_path, cv2.IMREAD_GRAYSCALE)      # 이미지를 흑백으로 읽어오기\n",
        "blood = np.array(blood_image)                       # 이미지를 숫자 배열로 변환\n",
        "print(\"이미지 배열 형태:\", blood.shape)"
      ],
      "metadata": {
        "id": "-ONY-2_blAFW",
        "colab": {
          "base_uri": "https://localhost:8080/"
        },
        "outputId": "92200e5c-fb7b-4758-8b31-4be0bc589bd3"
      },
      "execution_count": null,
      "outputs": [
        {
          "output_type": "stream",
          "name": "stdout",
          "text": [
            "이미지 배열 형태: (64, 64)\n"
          ]
        }
      ]
    },
    {
      "cell_type": "markdown",
      "source": [
        "64 x 64 크기의 이미지 배열 성공"
      ],
      "metadata": {
        "id": "mKlmf2mMGsed"
      }
    },
    {
      "cell_type": "code",
      "source": [
        "import os\n",
        "\n",
        "blood_folder_path = '/content/drive/MyDrive/blood'            # 이미지가 있는 폴더 경로\n",
        "blood_file_names = os.listdir(blood_folder_path)                    # 폴더 내의 모든 파일 목록 가져오기\n",
        "blood_samples = []                                       # 이미지를 저장할 리스트 생성\n",
        "\n",
        "for file_name in blood_file_names:                            # 폴더 내의 각 파일에 대해 숫자 배열로 변환\n",
        "    image_path = os.path.join(blood_folder_path, file_name)   # 파일의 전체 경로 생성\n",
        "\n",
        "    if file_name.endswith('.tiff'):       # 파일이 이미지인지 확인 (확장자가 .tiff인 경우에만)\n",
        "        image = cv2.imread(image_path, cv2.IMREAD_GRAYSCALE) # 이미지를 흑백으로 읽어오기\n",
        "\n",
        "        if image is not None:                 # 이미지가 올바르게 읽어졌는지 확인\n",
        "            blood = np.array(image)     # 이미지를 숫자 배열로 변환하여 리스트에 추가\n",
        "            blood_samples.append(blood)\n",
        "\n",
        "for i, blood in enumerate(blood_samples):\n",
        "    print(f\"Image {i+1} array shape:\", blood.shape)    # 리스트에 저장된 이미지 배열 확인"
      ],
      "metadata": {
        "id": "QrubHLXxB2ff"
      },
      "execution_count": null,
      "outputs": []
    },
    {
      "cell_type": "markdown",
      "source": [
        "https://luvris2.tistory.com/189\n",
        "\n",
        "구글 코랩 드라이브 데이터 세트 마운트 하는 방법\n",
        "\n",
        "\n",
        "https://velog.io/@mykirk98/Colab-%EA%B5%AC%EA%B8%80-%EB%93%9C%EB%9D%BC%EC%9D%B4%EB%B8%8C-%EB%A7%88%EC%9A%B4%ED%8A%B8\n",
        "\n",
        "특정 폴더만 마운트 하는 방법"
      ],
      "metadata": {
        "id": "pzHGiPfkDVLL"
      }
    },
    {
      "cell_type": "code",
      "source": [
        "import matplotlib.pyplot as plt\n",
        "plt.imshow(blood)\n",
        "plt.show()"
      ],
      "metadata": {
        "colab": {
          "base_uri": "https://localhost:8080/",
          "height": 432
        },
        "id": "S6qp4D7bC5Jg",
        "outputId": "3f62ac67-ee67-4bf9-c07d-2a3c545a78a2"
      },
      "execution_count": null,
      "outputs": [
        {
          "output_type": "display_data",
          "data": {
            "text/plain": [
              "<Figure size 640x480 with 1 Axes>"
            ],
            "image/png": "[encoded data removed]"
          },
          "metadata": {}
        }
      ]
    },
    {
      "cell_type": "code",
      "source": [
        "from sklearn.cluster import KMeans\n",
        "km = KMeans(n_clusters=3)\n",
        "km.fit(blood)"
      ],
      "metadata": {
        "colab": {
          "base_uri": "https://localhost:8080/",
          "height": 132
        },
        "id": "31yFQ1UdFEga",
        "outputId": "360b3374-e333-4df7-ef0b-d86a2c4bc1f2"
      },
      "execution_count": null,
      "outputs": [
        {
          "output_type": "stream",
          "name": "stderr",
          "text": [
            "/usr/local/lib/python3.10/dist-packages/sklearn/cluster/_kmeans.py:870: FutureWarning: The default value of `n_init` will change from 10 to 'auto' in 1.4. Set the value of `n_init` explicitly to suppress the warning\n",
            "  warnings.warn(\n"
          ]
        },
        {
          "output_type": "execute_result",
          "data": {
            "text/plain": [
              "KMeans(n_clusters=3)"
            ],
            "text/html": [
              "<style>#sk-container-id-1 {color: black;background-color: white;}#sk-container-id-1 pre{padding: 0;}#sk-container-id-1 div.sk-toggleable {background-color: white;}#sk-container-id-1 label.sk-toggleable__label {cursor: pointer;display: block;width: 100%;margin-bottom: 0;padding: 0.3em;box-sizing: border-box;text-align: center;}#sk-container-id-1 label.sk-toggleable__label-arrow:before {content: \"▸\";float: left;margin-right: 0.25em;color: #696969;}#sk-container-id-1 label.sk-toggleable__label-arrow:hover:before {color: black;}#sk-container-id-1 div.sk-estimator:hover label.sk-toggleable__label-arrow:before {color: black;}#sk-container-id-1 div.sk-toggleable__content {max-height: 0;max-width: 0;overflow: hidden;text-align: left;background-color: #f0f8ff;}#sk-container-id-1 div.sk-toggleable__content pre {margin: 0.2em;color: black;border-radius: 0.25em;background-color: #f0f8ff;}#sk-container-id-1 input.sk-toggleable__control:checked~div.sk-toggleable__content {max-height: 200px;max-width: 100%;overflow: auto;}#sk-container-id-1 input.sk-toggleable__control:checked~label.sk-toggleable__label-arrow:before {content: \"▾\";}#sk-container-id-1 div.sk-estimator input.sk-toggleable__control:checked~label.sk-toggleable__label {background-color: #d4ebff;}#sk-container-id-1 div.sk-label input.sk-toggleable__control:checked~label.sk-toggleable__label {background-color: #d4ebff;}#sk-container-id-1 input.sk-hidden--visually {border: 0;clip: rect(1px 1px 1px 1px);clip: rect(1px, 1px, 1px, 1px);height: 1px;margin: -1px;overflow: hidden;padding: 0;position: absolute;width: 1px;}#sk-container-id-1 div.sk-estimator {font-family: monospace;background-color: #f0f8ff;border: 1px dotted black;border-radius: 0.25em;box-sizing: border-box;margin-bottom: 0.5em;}#sk-container-id-1 div.sk-estimator:hover {background-color: #d4ebff;}#sk-container-id-1 div.sk-parallel-item::after {content: \"\";width: 100%;border-bottom: 1px solid gray;flex-grow: 1;}#sk-container-id-1 div.sk-label:hover label.sk-toggleable__label {background-color: #d4ebff;}#sk-container-id-1 div.sk-serial::before {content: \"\";position: absolute;border-left: 1px solid gray;box-sizing: border-box;top: 0;bottom: 0;left: 50%;z-index: 0;}#sk-container-id-1 div.sk-serial {display: flex;flex-direction: column;align-items: center;background-color: white;padding-right: 0.2em;padding-left: 0.2em;position: relative;}#sk-container-id-1 div.sk-item {position: relative;z-index: 1;}#sk-container-id-1 div.sk-parallel {display: flex;align-items: stretch;justify-content: center;background-color: white;position: relative;}#sk-container-id-1 div.sk-item::before, #sk-container-id-1 div.sk-parallel-item::before {content: \"\";position: absolute;border-left: 1px solid gray;box-sizing: border-box;top: 0;bottom: 0;left: 50%;z-index: -1;}#sk-container-id-1 div.sk-parallel-item {display: flex;flex-direction: column;z-index: 1;position: relative;background-color: white;}#sk-container-id-1 div.sk-parallel-item:first-child::after {align-self: flex-end;width: 50%;}#sk-container-id-1 div.sk-parallel-item:last-child::after {align-self: flex-start;width: 50%;}#sk-container-id-1 div.sk-parallel-item:only-child::after {width: 0;}#sk-container-id-1 div.sk-dashed-wrapped {border: 1px dashed gray;margin: 0 0.4em 0.5em 0.4em;box-sizing: border-box;padding-bottom: 0.4em;background-color: white;}#sk-container-id-1 div.sk-label label {font-family: monospace;font-weight: bold;display: inline-block;line-height: 1.2em;}#sk-container-id-1 div.sk-label-container {text-align: center;}#sk-container-id-1 div.sk-container {/* jupyter's `normalize.less` sets `[hidden] { display: none; }` but bootstrap.min.css set `[hidden] { display: none !important; }` so we also need the `!important` here to be able to override the default hidden behavior on the sphinx rendered scikit-learn.org. See: https://github.com/scikit-learn/scikit-learn/issues/21755 */display: inline-block !important;position: relative;}#sk-container-id-1 div.sk-text-repr-fallback {display: none;}</style><div id=\"sk-container-id-1\" class=\"sk-top-container\"><div class=\"sk-text-repr-fallback\"><pre>KMeans(n_clusters=3)</pre><b>In a Jupyter environment, please rerun this cell to show the HTML representation or trust the notebook. <br />On GitHub, the HTML representation is unable to render, please try loading this page with nbviewer.org.</b></div><div class=\"sk-container\" hidden><div class=\"sk-item\"><div class=\"sk-estimator sk-toggleable\"><input class=\"sk-toggleable__control sk-hidden--visually\" id=\"sk-estimator-id-1\" type=\"checkbox\" checked><label for=\"sk-estimator-id-1\" class=\"sk-toggleable__label sk-toggleable__label-arrow\">KMeans</label><div class=\"sk-toggleable__content\"><pre>KMeans(n_clusters=3)</pre></div></div></div></div></div>"
            ]
          },
          "metadata": {},
          "execution_count": 47
        }
      ]
    },
    {
      "cell_type": "code",
      "source": [
        "print(km.labels_)"
      ],
      "metadata": {
        "colab": {
          "base_uri": "https://localhost:8080/"
        },
        "id": "MWpEQy-SJ1Ke",
        "outputId": "46076895-77cf-4ca3-e597-9149163edb5c"
      },
      "execution_count": null,
      "outputs": [
        {
          "output_type": "stream",
          "name": "stdout",
          "text": [
            "[0 0 0 0 0 0 0 0 0 0 0 0 0 0 0 0 0 0 0 1 1 1 1 2 2 2 2 2 2 2 2 2 2 2 2 1 1\n",
            " 1 1 0 0 0 0 0 0 0 0 0 0 0 0 0 0 0 0 0 0 0 0 0 0 0 0 0]\n"
          ]
        }
      ]
    },
    {
      "cell_type": "code",
      "source": [
        "print(np.unique(km.labels_, return_counts=True))"
      ],
      "metadata": {
        "colab": {
          "base_uri": "https://localhost:8080/"
        },
        "id": "Wcxj8tCDJ6nv",
        "outputId": "ee1c64ef-a068-44fe-d52d-8bf578a07176"
      },
      "execution_count": null,
      "outputs": [
        {
          "output_type": "stream",
          "name": "stdout",
          "text": [
            "(array([0, 1, 2], dtype=int32), array([44,  8, 12]))\n"
          ]
        }
      ]
    },
    {
      "cell_type": "code",
      "source": [
        "def draw_blood(arr, ratio=1):\n",
        "  n = len(arr)\n",
        "  rows = int(np.ceil(n/6))\n",
        "  cols = n if rows < 2 else 6\n",
        "  fig, axs = plt.subplots(rows, cols, figsize=(cols*ratio, rows*ratio), squeeze=False)\n",
        "\n",
        "  for i in range(rows):\n",
        "    for j in range(cols):\n",
        "      if i*6 + j < n:\n",
        "        axs[i, j].imshow(arr[i*6 + j], cmap='gray_r')\n",
        "      axs[i, j].axis('off')\n",
        "  plt.show()"
      ],
      "metadata": {
        "id": "JPuHvSE6KOjI"
      },
      "execution_count": null,
      "outputs": []
    },
    {
      "cell_type": "code",
      "source": [
        "draw_blood(blood[km.labels_==0])"
      ],
      "metadata": {
        "id": "a7IGUTEqLFD6"
      },
      "execution_count": null,
      "outputs": []
    },
    {
      "cell_type": "code",
      "source": [
        "!wget https://www.kaggle.com/datasets/akhiljethwa/blood-cancer-image-dataset -O blood.npy"
      ],
      "metadata": {
        "id": "9PSMYVh1LNWB"
      },
      "execution_count": null,
      "outputs": []
    },
    {
      "cell_type": "code",
      "source": [
        "blood = np.load('/content/blood.npy')"
      ],
      "metadata": {
        "id": "x0tEniDMOun_"
      },
      "execution_count": null,
      "outputs": []
    },
    {
      "cell_type": "code",
      "source": [],
      "metadata": {
        "id": "uEMUy75GO6cs"
      },
      "execution_count": null,
      "outputs": []
    }
  ]
}