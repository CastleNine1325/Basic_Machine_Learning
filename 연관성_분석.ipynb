{
  "nbformat": 4,
  "nbformat_minor": 0,
  "metadata": {
    "colab": {
      "provenance": []
    },
    "kernelspec": {
      "name": "python3",
      "display_name": "Python 3"
    },
    "language_info": {
      "name": "python"
    }
  },
  "cells": [
    {
      "cell_type": "code",
      "execution_count": null,
      "metadata": {
        "colab": {
          "base_uri": "https://localhost:8080/"
        },
        "id": "Dtu5ruETdCZk",
        "outputId": "a80faff9-4676-4a62-eae6-444da6778554"
      },
      "outputs": [
        {
          "output_type": "stream",
          "name": "stderr",
          "text": [
            "/usr/local/lib/python3.10/dist-packages/ipykernel/ipkernel.py:283: DeprecationWarning: `should_run_async` will not call `transform_cell` automatically in the future. Please pass the result to `transformed_cell` argument and any exception that happen during thetransform in `preprocessing_exc_tuple` in IPython 7.17 and above.\n",
            "  and should_run_async(code)\n"
          ]
        }
      ],
      "source": [
        "import pandas as pd\n",
        "import matplotlib.pylab as plt\n",
        "from mlxtend.frequent_patterns import apriori\n",
        "from mlxtend.frequent_patterns import association_rules"
      ]
    },
    {
      "cell_type": "code",
      "source": [
        "fp_df = pd.read_csv('/content/Cosmetics.csv')\n",
        "print('인덱스 설정 이전\\n', fp_df)\n",
        "\n",
        "fp_df.set_index('Trans. ', inplace=True)\n",
        "print('인덱스 설정 이후\\n', fp_df)"
      ],
      "metadata": {
        "colab": {
          "base_uri": "https://localhost:8080/"
        },
        "id": "CAs2KWA8mIG-",
        "outputId": "b6c7e05b-3eef-4173-f04c-504375fcf2b3"
      },
      "execution_count": null,
      "outputs": [
        {
          "output_type": "stream",
          "name": "stdout",
          "text": [
            "인덱스 설정 이전\n",
            "      Trans.   Bag  Blush  Nail Polish  Brushes  Concealer  Eyebrow Pencils  \\\n",
            "0          1    0      1            1        1          1                0   \n",
            "1          2    0      0            1        0          1                0   \n",
            "2          3    0      1            0        0          1                1   \n",
            "3          4    0      0            1        1          1                0   \n",
            "4          5    0      1            0        0          1                0   \n",
            "..       ...  ...    ...          ...      ...        ...              ...   \n",
            "995      996    0      0            0        0          0                0   \n",
            "996      997    0      0            0        0          0                0   \n",
            "997      998    0      1            1        1          1                0   \n",
            "998      999    1      1            0        0          1                0   \n",
            "999     1000    0      0            0        0          1                0   \n",
            "\n",
            "     Bronzer  Lip liner  Mascara  Eye shadow  Foundation  Lip Gloss  Lipstick  \\\n",
            "0          1          1        1           0           0          0         0   \n",
            "1          1          1        0           0           1          1         0   \n",
            "2          1          1        1           1           1          1         1   \n",
            "3          1          0        0           0           1          0         0   \n",
            "4          1          1        1           1           0          1         1   \n",
            "..       ...        ...      ...         ...         ...        ...       ...   \n",
            "995        0          0        0           0           0          0         0   \n",
            "996        0          0        0           0           1          1         0   \n",
            "997        0          1        0           0           1          0         1   \n",
            "998        0          0        1           1           0          0         1   \n",
            "999        1          1        0           1           0          0         0   \n",
            "\n",
            "     Eyeliner  \n",
            "0           1  \n",
            "1           0  \n",
            "2           0  \n",
            "3           1  \n",
            "4           0  \n",
            "..        ...  \n",
            "995         0  \n",
            "996         0  \n",
            "997         1  \n",
            "998         1  \n",
            "999         1  \n",
            "\n",
            "[1000 rows x 15 columns]\n",
            "인덱스 설정 이후\n",
            "          Bag  Blush  Nail Polish  Brushes  Concealer  Eyebrow Pencils  \\\n",
            "Trans.                                                                  \n",
            "1          0      1            1        1          1                0   \n",
            "2          0      0            1        0          1                0   \n",
            "3          0      1            0        0          1                1   \n",
            "4          0      0            1        1          1                0   \n",
            "5          0      1            0        0          1                0   \n",
            "...      ...    ...          ...      ...        ...              ...   \n",
            "996        0      0            0        0          0                0   \n",
            "997        0      0            0        0          0                0   \n",
            "998        0      1            1        1          1                0   \n",
            "999        1      1            0        0          1                0   \n",
            "1000       0      0            0        0          1                0   \n",
            "\n",
            "         Bronzer  Lip liner  Mascara  Eye shadow  Foundation  Lip Gloss  \\\n",
            "Trans.                                                                    \n",
            "1              1          1        1           0           0          0   \n",
            "2              1          1        0           0           1          1   \n",
            "3              1          1        1           1           1          1   \n",
            "4              1          0        0           0           1          0   \n",
            "5              1          1        1           1           0          1   \n",
            "...          ...        ...      ...         ...         ...        ...   \n",
            "996            0          0        0           0           0          0   \n",
            "997            0          0        0           0           1          1   \n",
            "998            0          1        0           0           1          0   \n",
            "999            0          0        1           1           0          0   \n",
            "1000           1          1        0           1           0          0   \n",
            "\n",
            "         Lipstick  Eyeliner  \n",
            "Trans.                       \n",
            "1               0         1  \n",
            "2               0         0  \n",
            "3               1         0  \n",
            "4               0         1  \n",
            "5               1         0  \n",
            "...           ...       ...  \n",
            "996             0         0  \n",
            "997             0         0  \n",
            "998             1         1  \n",
            "999             1         1  \n",
            "1000            0         1  \n",
            "\n",
            "[1000 rows x 14 columns]\n"
          ]
        },
        {
          "output_type": "stream",
          "name": "stderr",
          "text": [
            "/usr/local/lib/python3.10/dist-packages/ipykernel/ipkernel.py:283: DeprecationWarning: `should_run_async` will not call `transform_cell` automatically in the future. Please pass the result to `transformed_cell` argument and any exception that happen during thetransform in `preprocessing_exc_tuple` in IPython 7.17 and above.\n",
            "  and should_run_async(code)\n"
          ]
        }
      ]
    },
    {
      "cell_type": "code",
      "source": [
        "itemsets = apriori(fp_df, min_support=0.1, use_colnames=True)\n",
        "rules = association_rules(itemsets, metric='confidence', min_threshold=0.5)\n",
        "results = rules.sort_values(by=['lift'], ascending=False)\n",
        "\n",
        "print(results.drop(columns=['antecedent support', 'consequent support', 'conviction', 'zhangs_metric']))"
      ],
      "metadata": {
        "colab": {
          "base_uri": "https://localhost:8080/"
        },
        "id": "KC5PknygmoAi",
        "outputId": "308f2ee6-7f55-41c1-d257-0ed67ce309fd"
      },
      "execution_count": null,
      "outputs": [
        {
          "output_type": "stream",
          "name": "stdout",
          "text": [
            "                 antecedents              consequents  support  confidence  \\\n",
            "7                  (Brushes)            (Nail Polish)    0.149    1.000000   \n",
            "6              (Nail Polish)                (Brushes)    0.149    0.532143   \n",
            "130  (Concealer, Eye shadow)      (Mascara, Eyeliner)    0.114    0.567164   \n",
            "127      (Mascara, Eyeliner)  (Concealer, Eye shadow)    0.114    0.651429   \n",
            "120  (Concealer, Eye shadow)         (Blush, Mascara)    0.119    0.592040   \n",
            "..                       ...                      ...      ...         ...   \n",
            "30                (Lipstick)             (Foundation)    0.167    0.518634   \n",
            "81   (Concealer, Eye shadow)             (Foundation)    0.104    0.517413   \n",
            "99     (Mascara, Eye shadow)             (Foundation)    0.166    0.517134   \n",
            "89     (Concealer, Eyeliner)             (Foundation)    0.152    0.511785   \n",
            "9              (Nail Polish)             (Foundation)    0.143    0.510714   \n",
            "\n",
            "         lift  leverage  \n",
            "7    3.571429  0.107280  \n",
            "6    3.571429  0.107280  \n",
            "130  3.240938  0.078825  \n",
            "127  3.240938  0.078825  \n",
            "120  3.217608  0.082016  \n",
            "..        ...       ...  \n",
            "30   0.967600 -0.005592  \n",
            "81   0.965323 -0.003736  \n",
            "99   0.964802 -0.006056  \n",
            "89   0.954822 -0.007192  \n",
            "9    0.952825 -0.007080  \n",
            "\n",
            "[139 rows x 6 columns]\n"
          ]
        },
        {
          "output_type": "stream",
          "name": "stderr",
          "text": [
            "/usr/local/lib/python3.10/dist-packages/ipykernel/ipkernel.py:283: DeprecationWarning: `should_run_async` will not call `transform_cell` automatically in the future. Please pass the result to `transformed_cell` argument and any exception that happen during thetransform in `preprocessing_exc_tuple` in IPython 7.17 and above.\n",
            "  and should_run_async(code)\n",
            "/usr/local/lib/python3.10/dist-packages/mlxtend/frequent_patterns/fpcommon.py:110: DeprecationWarning: DataFrames with non-bool types result in worse computationalperformance and their support might be discontinued in the future.Please use a DataFrame with bool type\n",
            "  warnings.warn(\n"
          ]
        }
      ]
    },
    {
      "cell_type": "code",
      "source": [
        "itemsets = apriori(fp_df, min_support=0.1, use_colnames=True)\n",
        "rules = association_rules(itemsets)\n",
        "results = rules.sort_values(by=['lift'], ascending=False)\n",
        "\n",
        "print(results.head(3).drop(columns=['antecedent support', 'consequent support', 'conviction', 'zhangs_metric']))"
      ],
      "metadata": {
        "colab": {
          "base_uri": "https://localhost:8080/"
        },
        "id": "Blxac4eqnt-M",
        "outputId": "b44c6a42-aee2-463d-d7b6-96c9060289ae"
      },
      "execution_count": null,
      "outputs": [
        {
          "output_type": "stream",
          "name": "stdout",
          "text": [
            "                       antecedents    consequents  support  confidence  \\\n",
            "0                        (Brushes)  (Nail Polish)    0.149    1.000000   \n",
            "22  (Concealer, Blush, Eye shadow)      (Mascara)    0.119    0.959677   \n",
            "5              (Blush, Eye shadow)      (Mascara)    0.169    0.928571   \n",
            "\n",
            "        lift  leverage  \n",
            "0   3.571429  0.107280  \n",
            "22  2.688172  0.074732  \n",
            "5   2.601040  0.104026  \n"
          ]
        },
        {
          "output_type": "stream",
          "name": "stderr",
          "text": [
            "/usr/local/lib/python3.10/dist-packages/ipykernel/ipkernel.py:283: DeprecationWarning: `should_run_async` will not call `transform_cell` automatically in the future. Please pass the result to `transformed_cell` argument and any exception that happen during thetransform in `preprocessing_exc_tuple` in IPython 7.17 and above.\n",
            "  and should_run_async(code)\n",
            "/usr/local/lib/python3.10/dist-packages/mlxtend/frequent_patterns/fpcommon.py:110: DeprecationWarning: DataFrames with non-bool types result in worse computationalperformance and their support might be discontinued in the future.Please use a DataFrame with bool type\n",
            "  warnings.warn(\n"
          ]
        }
      ]
    },
    {
      "cell_type": "code",
      "source": [],
      "metadata": {
        "id": "Oi9HzSW447U9"
      },
      "execution_count": null,
      "outputs": []
    },
    {
      "cell_type": "markdown",
      "source": [
        "매니큐어만을 살 때보다, 브러쉬를 살 때 매니큐어를 동시에 구매할 확률이 3.5배이다.\n",
        "이 연관규칙은 100% 신뢰도를 가지고, 브러쉬를 구매했다면 매니큐어를 구매할 확률이 100%라는 뜻임. 이 두 항목이 함께하는 빈번 아이템 연관 규칙은 약 3.6의 향상도와 15%의 거래 지지도를 가지고 있음. 즉, 브러쉬 구매와 매니큐어 구매가 동시에 이뤄질 가능성이 가장 높다고 할 수 있음. 또한, 지지도를 봤을때. 전체 구매 건 중 브러쉬와 매니큐어가 동시에 포함된 구매 비율이 약 15%가 됨을 알 수 있음.\n",
        "\n",
        "\n",
        "마스카라 만을 살 때보다, 컨실러+브러셔+아이섀도 조합을 구매할 때, 마스카라를 동시에 구매할 확률이 2.68배 높다.\n",
        "이 연관규칙은 96%의 신뢰도를 가진다. 컨실러, 브러쉬, 아이섀도를 구매했다면 마스카라를 구매할 확률이 96%라는 뜻임. 이 두 항목 빈번 아이템 연관은 약 2.6의 향상도와 약 12%의 거래 지지도를 가지고 있음. 즉, 컨실러, 브러셔, 아이섀도 구매와 마스카라 구매가 동시에 이뤄질 가능성이 상당히 높다고 할 수 있음. 또한, 지지도를 봤을때, 전체 구매 건 중 컨실러, 브러쉬, 아이섀도 세트와 마스카라가 동시에 포함된 구매 비율이 약 12%가 됨을 알 수 있다.\n",
        "\n",
        "\n",
        "마스카라 만을 살 때보다, 브러셔+아이섀도 조합을 구매할 때, 마스카라를 동시에 구매할 확률이 2.6배 높다.\n",
        "\n",
        "두 번째 연관 분석과 매우 유사하다. 차이가 있다면 컨실러의 유무밖에 없다. 지지도도 비슷한 편이며, 향상도 또한 매우 흡사하다. 이 두 항목으로 세일 전략을 세워본다면, 브러쉬, 아이섀도, 마스카라 조합 세트를 판매하고, 이 세트를 구매한다면 컨실러를 얹어주는 방식의 영업을 떠올릴 수 있다."
      ],
      "metadata": {
        "id": "7IvysC9qvm7B"
      }
    },
    {
      "cell_type": "code",
      "source": [],
      "metadata": {
        "colab": {
          "base_uri": "https://localhost:8080/"
        },
        "id": "gBUxasjTtVmh",
        "outputId": "4c89553c-cffa-4fc0-c862-f31fde748ff0"
      },
      "execution_count": null,
      "outputs": [
        {
          "output_type": "stream",
          "name": "stderr",
          "text": [
            "/usr/local/lib/python3.10/dist-packages/ipykernel/ipkernel.py:283: DeprecationWarning: `should_run_async` will not call `transform_cell` automatically in the future. Please pass the result to `transformed_cell` argument and any exception that happen during thetransform in `preprocessing_exc_tuple` in IPython 7.17 and above.\n",
            "  and should_run_async(code)\n"
          ]
        }
      ]
    }
  ]
}